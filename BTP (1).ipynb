{
 "cells": [
  {
   "cell_type": "code",
   "execution_count": 1,
   "id": "f253fad2",
   "metadata": {},
   "outputs": [],
   "source": [
    "import numpy as np\n",
    "import pandas as pd"
   ]
  },
  {
   "cell_type": "code",
   "execution_count": 2,
   "id": "44c14b13",
   "metadata": {
    "scrolled": true
   },
   "outputs": [
    {
     "data": {
      "text/html": [
       "<div>\n",
       "<style scoped>\n",
       "    .dataframe tbody tr th:only-of-type {\n",
       "        vertical-align: middle;\n",
       "    }\n",
       "\n",
       "    .dataframe tbody tr th {\n",
       "        vertical-align: top;\n",
       "    }\n",
       "\n",
       "    .dataframe thead th {\n",
       "        text-align: right;\n",
       "    }\n",
       "</style>\n",
       "<table border=\"1\" class=\"dataframe\">\n",
       "  <thead>\n",
       "    <tr style=\"text-align: right;\">\n",
       "      <th></th>\n",
       "      <th>Frame</th>\n",
       "      <th>Time</th>\n",
       "      <th>jRK.X</th>\n",
       "      <th>jRK.Y</th>\n",
       "      <th>jRK.Z</th>\n",
       "    </tr>\n",
       "  </thead>\n",
       "  <tbody>\n",
       "    <tr>\n",
       "      <th>0</th>\n",
       "      <td>0</td>\n",
       "      <td>0.00</td>\n",
       "      <td>-42.6</td>\n",
       "      <td>4.8</td>\n",
       "      <td>-3.0</td>\n",
       "    </tr>\n",
       "    <tr>\n",
       "      <th>1</th>\n",
       "      <td>1</td>\n",
       "      <td>0.01</td>\n",
       "      <td>-42.5</td>\n",
       "      <td>4.8</td>\n",
       "      <td>-3.0</td>\n",
       "    </tr>\n",
       "    <tr>\n",
       "      <th>2</th>\n",
       "      <td>2</td>\n",
       "      <td>0.02</td>\n",
       "      <td>-42.4</td>\n",
       "      <td>4.8</td>\n",
       "      <td>-3.0</td>\n",
       "    </tr>\n",
       "    <tr>\n",
       "      <th>3</th>\n",
       "      <td>3</td>\n",
       "      <td>0.03</td>\n",
       "      <td>-42.4</td>\n",
       "      <td>4.8</td>\n",
       "      <td>-3.1</td>\n",
       "    </tr>\n",
       "    <tr>\n",
       "      <th>4</th>\n",
       "      <td>4</td>\n",
       "      <td>0.04</td>\n",
       "      <td>-42.3</td>\n",
       "      <td>4.8</td>\n",
       "      <td>-3.1</td>\n",
       "    </tr>\n",
       "  </tbody>\n",
       "</table>\n",
       "</div>"
      ],
      "text/plain": [
       "    Frame    Time       jRK.X       jRK.Y       jRK.Z\n",
       "0       0    0.00       -42.6         4.8        -3.0\n",
       "1       1    0.01       -42.5         4.8        -3.0\n",
       "2       2    0.02       -42.4         4.8        -3.0\n",
       "3       3    0.03       -42.4         4.8        -3.1\n",
       "4       4    0.04       -42.3         4.8        -3.1"
      ]
     },
     "execution_count": 2,
     "metadata": {},
     "output_type": "execute_result"
    }
   ],
   "source": [
    "right_knee = pd.read_excel(r'C:\\Users\\LEGION\\Desktop\\Trial1\\1.xlsx')\n",
    "right_knee.head()"
   ]
  },
  {
   "cell_type": "code",
   "execution_count": 3,
   "id": "47bffa69",
   "metadata": {},
   "outputs": [
    {
     "data": {
      "text/html": [
       "<div>\n",
       "<style scoped>\n",
       "    .dataframe tbody tr th:only-of-type {\n",
       "        vertical-align: middle;\n",
       "    }\n",
       "\n",
       "    .dataframe tbody tr th {\n",
       "        vertical-align: top;\n",
       "    }\n",
       "\n",
       "    .dataframe thead th {\n",
       "        text-align: right;\n",
       "    }\n",
       "</style>\n",
       "<table border=\"1\" class=\"dataframe\">\n",
       "  <thead>\n",
       "    <tr style=\"text-align: right;\">\n",
       "      <th></th>\n",
       "      <th>Frame</th>\n",
       "      <th>Time</th>\n",
       "      <th>jRHP.X</th>\n",
       "      <th>jRHP.Y</th>\n",
       "      <th>jRHP.Z</th>\n",
       "    </tr>\n",
       "  </thead>\n",
       "  <tbody>\n",
       "    <tr>\n",
       "      <th>0</th>\n",
       "      <td>0</td>\n",
       "      <td>0.00</td>\n",
       "      <td>37.5</td>\n",
       "      <td>-5.0</td>\n",
       "      <td>-1.8</td>\n",
       "    </tr>\n",
       "    <tr>\n",
       "      <th>1</th>\n",
       "      <td>1</td>\n",
       "      <td>0.01</td>\n",
       "      <td>37.4</td>\n",
       "      <td>-5.0</td>\n",
       "      <td>-1.8</td>\n",
       "    </tr>\n",
       "    <tr>\n",
       "      <th>2</th>\n",
       "      <td>2</td>\n",
       "      <td>0.02</td>\n",
       "      <td>37.4</td>\n",
       "      <td>-5.0</td>\n",
       "      <td>-1.9</td>\n",
       "    </tr>\n",
       "    <tr>\n",
       "      <th>3</th>\n",
       "      <td>3</td>\n",
       "      <td>0.03</td>\n",
       "      <td>37.4</td>\n",
       "      <td>-5.0</td>\n",
       "      <td>-1.9</td>\n",
       "    </tr>\n",
       "    <tr>\n",
       "      <th>4</th>\n",
       "      <td>4</td>\n",
       "      <td>0.04</td>\n",
       "      <td>37.4</td>\n",
       "      <td>-5.0</td>\n",
       "      <td>-2.0</td>\n",
       "    </tr>\n",
       "  </tbody>\n",
       "</table>\n",
       "</div>"
      ],
      "text/plain": [
       "    Frame    Time      jRHP.X      jRHP.Y      jRHP.Z\n",
       "0       0    0.00        37.5        -5.0        -1.8\n",
       "1       1    0.01        37.4        -5.0        -1.8\n",
       "2       2    0.02        37.4        -5.0        -1.9\n",
       "3       3    0.03        37.4        -5.0        -1.9\n",
       "4       4    0.04        37.4        -5.0        -2.0"
      ]
     },
     "execution_count": 3,
     "metadata": {},
     "output_type": "execute_result"
    }
   ],
   "source": [
    "right_hip = pd.read_excel(r'C:\\Users\\LEGION\\Desktop\\Trial1\\2.xlsx')\n",
    "right_hip.head()"
   ]
  },
  {
   "cell_type": "code",
   "execution_count": 4,
   "id": "51e7dc56",
   "metadata": {},
   "outputs": [],
   "source": [
    "l1 = 19.375\n",
    "l2 = 19.375"
   ]
  },
  {
   "cell_type": "code",
   "execution_count": 5,
   "id": "5beb480f",
   "metadata": {},
   "outputs": [
    {
     "data": {
      "text/html": [
       "<div>\n",
       "<style scoped>\n",
       "    .dataframe tbody tr th:only-of-type {\n",
       "        vertical-align: middle;\n",
       "    }\n",
       "\n",
       "    .dataframe tbody tr th {\n",
       "        vertical-align: top;\n",
       "    }\n",
       "\n",
       "    .dataframe thead th {\n",
       "        text-align: right;\n",
       "    }\n",
       "</style>\n",
       "<table border=\"1\" class=\"dataframe\">\n",
       "  <thead>\n",
       "    <tr style=\"text-align: right;\">\n",
       "      <th></th>\n",
       "      <th>Time</th>\n",
       "      <th>jRK.X</th>\n",
       "    </tr>\n",
       "  </thead>\n",
       "  <tbody>\n",
       "    <tr>\n",
       "      <th>0</th>\n",
       "      <td>0.00</td>\n",
       "      <td>-42.6</td>\n",
       "    </tr>\n",
       "    <tr>\n",
       "      <th>1</th>\n",
       "      <td>0.01</td>\n",
       "      <td>-42.5</td>\n",
       "    </tr>\n",
       "    <tr>\n",
       "      <th>2</th>\n",
       "      <td>0.02</td>\n",
       "      <td>-42.4</td>\n",
       "    </tr>\n",
       "    <tr>\n",
       "      <th>3</th>\n",
       "      <td>0.03</td>\n",
       "      <td>-42.4</td>\n",
       "    </tr>\n",
       "    <tr>\n",
       "      <th>4</th>\n",
       "      <td>0.04</td>\n",
       "      <td>-42.3</td>\n",
       "    </tr>\n",
       "  </tbody>\n",
       "</table>\n",
       "</div>"
      ],
      "text/plain": [
       "     Time       jRK.X\n",
       "0    0.00       -42.6\n",
       "1    0.01       -42.5\n",
       "2    0.02       -42.4\n",
       "3    0.03       -42.4\n",
       "4    0.04       -42.3"
      ]
     },
     "execution_count": 5,
     "metadata": {},
     "output_type": "execute_result"
    }
   ],
   "source": [
    "J1_new = right_knee[[\"  Time\",\"     jRK.X\"]]\n",
    "J1_new.head()"
   ]
  },
  {
   "cell_type": "code",
   "execution_count": 6,
   "id": "e2a2b26f",
   "metadata": {},
   "outputs": [
    {
     "data": {
      "text/html": [
       "<div>\n",
       "<style scoped>\n",
       "    .dataframe tbody tr th:only-of-type {\n",
       "        vertical-align: middle;\n",
       "    }\n",
       "\n",
       "    .dataframe tbody tr th {\n",
       "        vertical-align: top;\n",
       "    }\n",
       "\n",
       "    .dataframe thead th {\n",
       "        text-align: right;\n",
       "    }\n",
       "</style>\n",
       "<table border=\"1\" class=\"dataframe\">\n",
       "  <thead>\n",
       "    <tr style=\"text-align: right;\">\n",
       "      <th></th>\n",
       "      <th>Time</th>\n",
       "      <th>jRHP.X</th>\n",
       "    </tr>\n",
       "  </thead>\n",
       "  <tbody>\n",
       "    <tr>\n",
       "      <th>0</th>\n",
       "      <td>0.00</td>\n",
       "      <td>37.5</td>\n",
       "    </tr>\n",
       "    <tr>\n",
       "      <th>1</th>\n",
       "      <td>0.01</td>\n",
       "      <td>37.4</td>\n",
       "    </tr>\n",
       "    <tr>\n",
       "      <th>2</th>\n",
       "      <td>0.02</td>\n",
       "      <td>37.4</td>\n",
       "    </tr>\n",
       "    <tr>\n",
       "      <th>3</th>\n",
       "      <td>0.03</td>\n",
       "      <td>37.4</td>\n",
       "    </tr>\n",
       "    <tr>\n",
       "      <th>4</th>\n",
       "      <td>0.04</td>\n",
       "      <td>37.4</td>\n",
       "    </tr>\n",
       "  </tbody>\n",
       "</table>\n",
       "</div>"
      ],
      "text/plain": [
       "     Time      jRHP.X\n",
       "0    0.00        37.5\n",
       "1    0.01        37.4\n",
       "2    0.02        37.4\n",
       "3    0.03        37.4\n",
       "4    0.04        37.4"
      ]
     },
     "execution_count": 6,
     "metadata": {},
     "output_type": "execute_result"
    }
   ],
   "source": [
    "J2_new = right_hip[[\"  Time\",\"    jRHP.X\"]]\n",
    "J2_new.head()"
   ]
  },
  {
   "cell_type": "code",
   "execution_count": 7,
   "id": "3f625fec",
   "metadata": {},
   "outputs": [],
   "source": [
    "def fun_name(J1_new,J2_new,l1,l2):\n",
    "    time = np.array(J1_new['  Time'])\n",
    "    print('time',time.shape)\n",
    "    phi1 = np.array(J1_new['     jRK.X'])\n",
    "    print('phi1',phi1.shape)\n",
    "    phi2 = np.array(J2_new['    jRHP.X'])\n",
    "    print('phi2',phi2.shape)\n",
    "    phi1_avg = phi1.mean()\n",
    "    phi2_avg = phi2.mean()\n",
    "    X1 = np.array(l1*np.sin(np.radians(phi1)))\n",
    "    Y1 = np.array(l1*np.cos(np.radians(phi1)))\n",
    "    X2 = np.array(l2*np.sin(np.radians(phi2)) + 2*l1*np.sin(np.radians(phi1)))\n",
    "    Y2 = np.array(l2*np.cos(np.radians(phi2)) + 2*l1*np.cos(np.radians(phi1)))\n",
    "    print('X1',X1.shape)\n",
    "    print('Y1',Y1.shape)\n",
    "    print('X2',X2.shape)\n",
    "    print('Y2',Y2.shape)\n",
    "    X1_t = np.transpose(X1)\n",
    "    X2_t = np.transpose(Y1)\n",
    "    Y1_t = np.transpose(X2)\n",
    "    Y2_t = np.transpose(Y2)\n",
    "    phi1_t = np.transpose(phi1)\n",
    "    phi2_t = np.transpose(phi2)\n",
    "    Weight = 58.6  \n",
    "    M1 = (0.11*Weight)-1.9+0.8;\n",
    "    I1=0.5*M1*(l1*2)*(l1*2);\n",
    "    M2=(0.18*Weight)+3.2+1.8;\n",
    "    I2=0.5*M2*(l2*2)*(l2*2);\n",
    "    M = np.array([[M1,0,0,0,0,0],\n",
    "        [0,M1,0,0,0,0],\n",
    "        [0,0,I1,0,0,0],\n",
    "        [0,0,0,M2,0,0],\n",
    "        [0,0,0,0,M2,0],\n",
    "        [0,0,0,0,0,I2]])\n",
    "    M_inv = np.linalg.inv(M)\n",
    "    A = np.array([[1,0,-l1*np.cos(phi1_avg),0,0,0],\n",
    "         [0,1,l1*np.sin(phi1_avg),0,0,0],\n",
    "         [-1,0,-l1*np.cos(phi1_avg),1,0,-l2*np.cos(phi2_avg)],\n",
    "         [0,-1,l1*np.sin(phi1_avg),0,1,l2*np.sin(phi2_avg)]])\n",
    "    A_t = np.transpose(A)\n",
    "    print('A_t',A_t.shape)\n",
    "    Q = np.transpose(np.concatenate(([X1_t],[Y1_t], [phi1_t], [X2_t], [Y2_t], [phi2_t]), axis = 0))\n",
    "    print('Q',Q.shape)\n",
    "    G = np.array([0, -M1*9.81, 0, 0, -M2*9.81, 0])\n",
    "    print('G',G.shape)\n",
    "    B=np.array([[0,0],\n",
    "       [0,0],\n",
    "       [1,0],\n",
    "       [0,0],\n",
    "       [0,0],\n",
    "       [0,1]])\n",
    "    print('B',B.shape)\n",
    "    Q_dot = np.gradient(Q, time, axis = 0)\n",
    "    Q_doubledot = np.gradient(Q_dot, time, axis = 0)\n",
    "    print('Q_doubledot',Q_doubledot.shape)\n",
    "    C = np.matmul(Q_doubledot, A_t)\n",
    "    print('C',C.shape)\n",
    "    M_inv_A_t = np.array(np.matmul(M_inv,A_t))\n",
    "    print('M_inv_A_t',M_inv_A_t.shape)\n",
    "    A_M_inv = np.array(np.matmul(A,M_inv))\n",
    "    print('A_M_inv',A_M_inv.shape)\n",
    "    A_M_inv_A_t = np.array(np.matmul(A_M_inv,A_t))\n",
    "    print('A_M_inv_A_t',A_M_inv_A_t.shape)\n",
    "    M_inv_G = np.array(np.matmul(M_inv,G))\n",
    "    print('M_inv_G',M_inv_G.shape)\n",
    "    A_M_inv_G = np.array(np.matmul(A_M_inv,G))\n",
    "    print('A_M_inv_G',A_M_inv_G.shape)\n",
    "    M_inv_G_n_times = np.vstack([M_inv_G]*7604)\n",
    "    print('M_inv_G_n_times',M_inv_G_n_times.shape)\n",
    "    A_M_inv_G_n_times = np.vstack([A_M_inv_G]*7604)\n",
    "    print('A_M_inv_G_n_times',A_M_inv_G_n_times.shape)\n",
    "    \n",
    "    left_array_top = np.hstack((M_inv,M_inv_A_t))\n",
    "    print('left_array_top',left_array_top.shape)\n",
    "    left_array_bottom = np.hstack((A_M_inv,A_M_inv_A_t))\n",
    "    print('left_array_bottom',left_array_bottom.shape)\n",
    "    left_array = np.vstack((left_array_top,left_array_bottom))\n",
    "    print('left_array',left_array.shape)\n",
    "    left_array_inv = np.linalg.inv(left_array)\n",
    "    \n",
    "    right_top = Q_doubledot - M_inv_G_n_times\n",
    "    print('right_top',right_top.shape)\n",
    "    right_bottom = C - A_M_inv_G_n_times\n",
    "    print('right_bottom',right_bottom.shape)\n",
    "    right_array = np.hstack((right_top,right_bottom))\n",
    "    print('right_array',right_array.shape)\n",
    "    \n",
    "    solution = right_array @  left_array_inv \n",
    "    print('solution',solution.shape)\n",
    "    print('right_array',right_array)\n",
    "    #np.savetxt(\"firstarray.csv\", solution, delimiter=\",\")\n",
    "    \n",
    "    \n"
   ]
  },
  {
   "cell_type": "code",
   "execution_count": 8,
   "id": "5ac294b9",
   "metadata": {
    "scrolled": false
   },
   "outputs": [
    {
     "name": "stdout",
     "output_type": "stream",
     "text": [
      "time (7604,)\n",
      "phi1 (7604,)\n",
      "phi2 (7604,)\n",
      "X1 (7604,)\n",
      "Y1 (7604,)\n",
      "X2 (7604,)\n",
      "Y2 (7604,)\n",
      "A_t (6, 4)\n",
      "Q (7604, 6)\n",
      "G (6,)\n",
      "B (6, 2)\n",
      "Q_doubledot (7604, 6)\n",
      "C (7604, 4)\n",
      "M_inv_A_t (6, 4)\n",
      "A_M_inv (4, 6)\n",
      "A_M_inv_A_t (4, 4)\n",
      "M_inv_G (6,)\n",
      "A_M_inv_G (4,)\n",
      "M_inv_G_n_times (7604, 6)\n",
      "A_M_inv_G_n_times (7604, 4)\n",
      "left_array_top (6, 10)\n",
      "left_array_bottom (4, 10)\n",
      "left_array (10, 10)\n",
      "right_top (7604, 6)\n",
      "right_bottom (7604, 4)\n",
      "right_array (7604, 10)\n",
      "solution (7604, 10)\n",
      "right_array [[ 1.99365353e-01  1.44437693e+02 -1.42108547e-11 ...  1.44437693e+02\n",
      "  -9.52594306e+03  1.52621418e+03]\n",
      " [-6.21794174e+01  1.96801271e+01 -2.50000000e+02 ... -3.75762703e+03\n",
      "  -6.48848519e+03 -2.24045453e+03]\n",
      " [-6.21796075e+01 -4.74347339e+01 -2.50000000e+02 ... -3.82474189e+03\n",
      "  -1.72572211e+03 -3.00397852e+03]\n",
      " ...\n",
      " [ 1.22442026e+02  2.54694053e+02  5.00000000e+02 ...  7.80930836e+03\n",
      "  -6.07011934e+03  7.54293018e+03]\n",
      " [ 6.13736422e+01  1.32557284e+02  2.50000000e+02 ...  3.90986444e+03\n",
      "  -3.03537258e+03  3.77083928e+03]\n",
      " [ 2.03505383e-01  1.02170108e+01 -6.79278855e-10 ...  1.02170108e+01\n",
      "  -4.17207079e-01 -8.34414185e-01]]\n"
     ]
    }
   ],
   "source": [
    "fun_name(J1_new,J2_new,l1,l2)"
   ]
  },
  {
   "cell_type": "code",
   "execution_count": 9,
   "id": "95b9e25b",
   "metadata": {},
   "outputs": [],
   "source": [
    "import matplotlib.pyplot as plt \n",
    "import pandas as pd"
   ]
  },
  {
   "cell_type": "code",
   "execution_count": 17,
   "id": "7b7ad6fb",
   "metadata": {},
   "outputs": [
    {
     "data": {
      "text/html": [
       "<div>\n",
       "<style scoped>\n",
       "    .dataframe tbody tr th:only-of-type {\n",
       "        vertical-align: middle;\n",
       "    }\n",
       "\n",
       "    .dataframe tbody tr th {\n",
       "        vertical-align: top;\n",
       "    }\n",
       "\n",
       "    .dataframe thead th {\n",
       "        text-align: right;\n",
       "    }\n",
       "</style>\n",
       "<table border=\"1\" class=\"dataframe\">\n",
       "  <thead>\n",
       "    <tr style=\"text-align: right;\">\n",
       "      <th></th>\n",
       "      <th>Time</th>\n",
       "      <th>T_1</th>\n",
       "      <th>T_2</th>\n",
       "      <th>T_3</th>\n",
       "      <th>T_4</th>\n",
       "      <th>T_5</th>\n",
       "      <th>T_6</th>\n",
       "      <th>F_1</th>\n",
       "      <th>F_2</th>\n",
       "      <th>F_3</th>\n",
       "      <th>F_4</th>\n",
       "      <th>Total_torque</th>\n",
       "      <th>Total_force</th>\n",
       "    </tr>\n",
       "  </thead>\n",
       "  <tbody>\n",
       "    <tr>\n",
       "      <th>0</th>\n",
       "      <td>0.000</td>\n",
       "      <td>17300.0</td>\n",
       "      <td>-163000.0</td>\n",
       "      <td>-2380000.0</td>\n",
       "      <td>229000.0</td>\n",
       "      <td>434000.0</td>\n",
       "      <td>945000.0</td>\n",
       "      <td>-195000.0</td>\n",
       "      <td>-127000.0</td>\n",
       "      <td>-524000.0</td>\n",
       "      <td>-524000.0</td>\n",
       "      <td>-1440000.0</td>\n",
       "      <td>-1370000.0</td>\n",
       "    </tr>\n",
       "    <tr>\n",
       "      <th>1</th>\n",
       "      <td>0.005</td>\n",
       "      <td>14900.0</td>\n",
       "      <td>-335000.0</td>\n",
       "      <td>-1750000.0</td>\n",
       "      <td>90000.0</td>\n",
       "      <td>370000.0</td>\n",
       "      <td>1510000.0</td>\n",
       "      <td>-165000.0</td>\n",
       "      <td>-136000.0</td>\n",
       "      <td>-524000.0</td>\n",
       "      <td>-393000.0</td>\n",
       "      <td>-240000.0</td>\n",
       "      <td>-1220000.0</td>\n",
       "    </tr>\n",
       "    <tr>\n",
       "      <th>2</th>\n",
       "      <td>0.010</td>\n",
       "      <td>11400.0</td>\n",
       "      <td>8060.0</td>\n",
       "      <td>-829000.0</td>\n",
       "      <td>-137000.0</td>\n",
       "      <td>39300.0</td>\n",
       "      <td>2320000.0</td>\n",
       "      <td>-162000.0</td>\n",
       "      <td>-55900.0</td>\n",
       "      <td>0.0</td>\n",
       "      <td>-65500.0</td>\n",
       "      <td>1490000.0</td>\n",
       "      <td>-283000.0</td>\n",
       "    </tr>\n",
       "    <tr>\n",
       "      <th>3</th>\n",
       "      <td>0.015</td>\n",
       "      <td>-1750.0</td>\n",
       "      <td>62300.0</td>\n",
       "      <td>1200000.0</td>\n",
       "      <td>-149000.0</td>\n",
       "      <td>-146000.0</td>\n",
       "      <td>-1760000.0</td>\n",
       "      <td>-47700.0</td>\n",
       "      <td>77900.0</td>\n",
       "      <td>262000.0</td>\n",
       "      <td>0.0</td>\n",
       "      <td>-560000.0</td>\n",
       "      <td>292000.0</td>\n",
       "    </tr>\n",
       "    <tr>\n",
       "      <th>4</th>\n",
       "      <td>0.020</td>\n",
       "      <td>-10500.0</td>\n",
       "      <td>60900.0</td>\n",
       "      <td>931000.0</td>\n",
       "      <td>-23300.0</td>\n",
       "      <td>-112000.0</td>\n",
       "      <td>-1430000.0</td>\n",
       "      <td>-80000.0</td>\n",
       "      <td>77200.0</td>\n",
       "      <td>131000.0</td>\n",
       "      <td>131000.0</td>\n",
       "      <td>-499000.0</td>\n",
       "      <td>259000.0</td>\n",
       "    </tr>\n",
       "  </tbody>\n",
       "</table>\n",
       "</div>"
      ],
      "text/plain": [
       "    Time      T_1       T_2        T_3       T_4       T_5        T_6  \\\n",
       "0  0.000  17300.0 -163000.0 -2380000.0  229000.0  434000.0   945000.0   \n",
       "1  0.005  14900.0 -335000.0 -1750000.0   90000.0  370000.0  1510000.0   \n",
       "2  0.010  11400.0    8060.0  -829000.0 -137000.0   39300.0  2320000.0   \n",
       "3  0.015  -1750.0   62300.0  1200000.0 -149000.0 -146000.0 -1760000.0   \n",
       "4  0.020 -10500.0   60900.0   931000.0  -23300.0 -112000.0 -1430000.0   \n",
       "\n",
       "        F_1       F_2       F_3       F_4  Total_torque  Total_force  \n",
       "0 -195000.0 -127000.0 -524000.0 -524000.0    -1440000.0   -1370000.0  \n",
       "1 -165000.0 -136000.0 -524000.0 -393000.0     -240000.0   -1220000.0  \n",
       "2 -162000.0  -55900.0       0.0  -65500.0     1490000.0    -283000.0  \n",
       "3  -47700.0   77900.0  262000.0       0.0     -560000.0     292000.0  \n",
       "4  -80000.0   77200.0  131000.0  131000.0     -499000.0     259000.0  "
      ]
     },
     "execution_count": 17,
     "metadata": {},
     "output_type": "execute_result"
    }
   ],
   "source": [
    "df = pd.read_csv(r\"C:\\Users\\LEGION\\Desktop\\file.csv\")\n",
    "df.head()"
   ]
  },
  {
   "cell_type": "code",
   "execution_count": 11,
   "id": "517738ae",
   "metadata": {
    "scrolled": true
   },
   "outputs": [
    {
     "data": {
      "text/plain": [
       "<function matplotlib.pyplot.show(close=None, block=None)>"
      ]
     },
     "execution_count": 11,
     "metadata": {},
     "output_type": "execute_result"
    },
    {
     "data": {
      "image/png": "[encoded data removed]",
      "text/plain": [
       "<Figure size 432x288 with 1 Axes>"
      ]
     },
     "metadata": {
      "needs_background": "light"
     },
     "output_type": "display_data"
    }
   ],
   "source": [
    "plt.plot(df['Time'],df['Total_torque'] / 2)\n",
    "plt.xlabel('Time')\n",
    "plt.ylabel('Average Torques')\n",
    "plt.show"
   ]
  },
  {
   "cell_type": "code",
   "execution_count": 12,
   "id": "dc2e5c2e",
   "metadata": {},
   "outputs": [
    {
     "data": {
      "text/plain": [
       "<function matplotlib.pyplot.show(close=None, block=None)>"
      ]
     },
     "execution_count": 12,
     "metadata": {},
     "output_type": "execute_result"
    },
    {
     "data": {
      "image/png": "[encoded data removed]",
      "text/plain": [
       "<Figure size 432x288 with 1 Axes>"
      ]
     },
     "metadata": {
      "needs_background": "light"
     },
     "output_type": "display_data"
    }
   ],
   "source": [
    "plt.plot(df['Time'],df['Total_force'] / 4)\n",
    "plt.xlabel('Time')\n",
    "plt.ylabel('Average Force')\n",
    "plt.show"
   ]
  },
  {
   "cell_type": "code",
   "execution_count": 13,
   "id": "f032e46e",
   "metadata": {},
   "outputs": [
    {
     "data": {
      "text/plain": [
       "Index(['Frame', 'Time', 'r gr.X', 'r gr.Y', 'r gr.Z', 'l gr.X', 'l gr.Y',\n",
       "       'l gr.Z', ' ', 'torque'],\n",
       "      dtype='object')"
      ]
     },
     "execution_count": 13,
     "metadata": {},
     "output_type": "execute_result"
    }
   ],
   "source": [
    "df1 = pd.read_csv(r\"C:\\Users\\LEGION\\Desktop\\File1.csv\")\n",
    "df1.columns"
   ]
  },
  {
   "cell_type": "code",
   "execution_count": 22,
   "id": "5d6ff4c2",
   "metadata": {},
   "outputs": [
    {
     "data": {
      "text/plain": [
       "<function matplotlib.pyplot.show(close=None, block=None)>"
      ]
     },
     "execution_count": 22,
     "metadata": {},
     "output_type": "execute_result"
    },
    {
     "data": {
      "image/png": "[encoded data removed]",
      "text/plain": [
       "<Figure size 432x288 with 1 Axes>"
      ]
     },
     "metadata": {
      "needs_background": "light"
     },
     "output_type": "display_data"
    }
   ],
   "source": [
    "plt.plot(df1[0:8000]['Time'],df1[0:8000]['r gr.Y'])\n",
    "plt.xlabel('Time')\n",
    "plt.ylabel('Average Torques')\n",
    "plt.show"
   ]
  },
  {
   "cell_type": "code",
   "execution_count": 35,
   "id": "14a7cc5b",
   "metadata": {},
   "outputs": [
    {
     "data": {
      "image/png": "[encoded data removed]",
      "text/plain": [
       "<Figure size 432x288 with 2 Axes>"
      ]
     },
     "metadata": {
      "needs_background": "light"
     },
     "output_type": "display_data"
    }
   ],
   "source": [
    "plt.subplots_adjust(left=0.1,\n",
    "                    bottom=0.1,\n",
    "                    right=0.9,\n",
    "                    top=0.9,\n",
    "                    wspace=0.4,\n",
    "                    hspace=1.4)\n",
    "\n",
    "plt.subplot(2, 1, 1)\n",
    "plt.plot(df[0:7000]['Time'],(df[0:7000]['Total_torque']))\n",
    "plt.xlabel('Time')\n",
    "plt.ylabel('Average Calculated Torques')\n",
    "#plot 2:\n",
    "\n",
    "plt.subplot(2, 1, 2)\n",
    "plt.plot(df1[0:7000]['Time'],df1[0:7000]['r gr.Y'])\n",
    "plt.xlabel('Time')\n",
    "plt.ylabel('Average experimental Torques')\n",
    "plt.show()"
   ]
  },
  {
   "cell_type": "code",
   "execution_count": null,
   "id": "dacceca8",
   "metadata": {},
   "outputs": [],
   "source": []
  }
 ],
 "metadata": {
  "kernelspec": {
   "display_name": "Python 3 (ipykernel)",
   "language": "python",
   "name": "python3"
  },
  "language_info": {
   "codemirror_mode": {
    "name": "ipython",
    "version": 3
   },
   "file_extension": ".py",
   "mimetype": "text/x-python",
   "name": "python",
   "nbconvert_exporter": "python",
   "pygments_lexer": "ipython3",
   "version": "3.9.7"
  }
 },
 "nbformat": 4,
 "nbformat_minor": 5
}
